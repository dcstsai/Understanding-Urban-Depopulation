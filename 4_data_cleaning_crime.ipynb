{
 "cells": [
  {
   "cell_type": "markdown",
   "metadata": {},
   "source": [
    "### 90803 Data Cleaning and Question Definition\n",
    "# Data Cleaning: Crime Data\n",
    "\n",
    "**Team 14**\n",
    "\n",
    "Chi-Shiun Tsai & Colton Lapp"
   ]
  },
  {
   "cell_type": "markdown",
   "metadata": {},
   "source": [
    "This notebook is used for cleaning the crime data from FBI."
   ]
  },
  {
   "cell_type": "markdown",
   "metadata": {},
   "source": [
    "### 0. Importing libraries"
   ]
  },
  {
   "cell_type": "code",
   "execution_count": 1,
   "metadata": {},
   "outputs": [],
   "source": [
    "import glob\n",
    "import numpy as np\n",
    "import pandas as pd\n",
    "from datetime import datetime\n",
    "import warnings\n",
    "warnings.simplefilter(action='ignore', category=FutureWarning)\n",
    "import os"
   ]
  },
  {
   "cell_type": "markdown",
   "metadata": {},
   "source": [
    "### 1. Reading datasets"
   ]
  },
  {
   "cell_type": "markdown",
   "metadata": {},
   "source": [
    "Read all excel files and merge them into a single dataframe."
   ]
  },
  {
   "cell_type": "code",
   "execution_count": 2,
   "metadata": {},
   "outputs": [],
   "source": [
    "\n",
    "try:\n",
    "    # Get the path of all Excel files \n",
    "    files = glob.glob(\"../data/State Tables Offenses by Agency 2020/*.xls\")\n",
    "    \n",
    "    apd_dta = []\n",
    "    for f in files:\n",
    "        df = pd.read_excel(f, skiprows=3)\n",
    "        col_names = df.iloc[0] \n",
    "        df = df[1:] \n",
    "        df.columns = col_names\n",
    "        df.columns = df.columns.str.replace('\\n', '')\n",
    "\n",
    "        # Fill in missing values and subset only agency of cities\n",
    "        df['Agency Type'] = df['Agency Type'].ffill(axis = 0)\n",
    "        df = df[df['Agency Type']=='Cities']\n",
    "        df.drop(['Agency Type'], axis=1, inplace=True)\n",
    "\n",
    "        # Keep only first columns\n",
    "        df = df.iloc[:, :3]\n",
    "        df.sort_index(inplace=True) \n",
    "\n",
    "        # Add column for state with filename\n",
    "        s = \"/\".join(f.split(\"/\")[-1:]) \n",
    "        s = s.rstrip(\"/\").split('_Offense')[0]\n",
    "        df['State'] = s\n",
    "        apd_dta.append(df)\n",
    "\n",
    "    df_merged = pd.concat(apd_dta, ignore_index=True)\n",
    "\n",
    "except:\n",
    "    print(\"Error reading in raw crime data. \\\n",
    "These files are small so they should be on your local machine after pulling the repo. \\\n",
    "If they are not, please download them here and try again \\n \\\n",
    "https://drive.google.com/uc?export=download&id=1fkrUbxsr3eGjjsfD3TcUOV8K0041N3FL\\\n",
    "\\nOptionally, you may need to use pip install xlrd\")"
   ]
  },
  {
   "cell_type": "code",
   "execution_count": 3,
   "metadata": {},
   "outputs": [
    {
     "data": {
      "text/html": [
       "<div>\n",
       "<style scoped>\n",
       "    .dataframe tbody tr th:only-of-type {\n",
       "        vertical-align: middle;\n",
       "    }\n",
       "\n",
       "    .dataframe tbody tr th {\n",
       "        vertical-align: top;\n",
       "    }\n",
       "\n",
       "    .dataframe thead th {\n",
       "        text-align: right;\n",
       "    }\n",
       "</style>\n",
       "<table border=\"1\" class=\"dataframe\">\n",
       "  <thead>\n",
       "    <tr style=\"text-align: right;\">\n",
       "      <th></th>\n",
       "      <th>Agency Name</th>\n",
       "      <th>Population1</th>\n",
       "      <th>TotalOffenses</th>\n",
       "      <th>State</th>\n",
       "      <th>Population</th>\n",
       "    </tr>\n",
       "  </thead>\n",
       "  <tbody>\n",
       "    <tr>\n",
       "      <th>0</th>\n",
       "      <td>Alta Vista</td>\n",
       "      <td>422</td>\n",
       "      <td>0</td>\n",
       "      <td>Kansas</td>\n",
       "      <td>NaN</td>\n",
       "    </tr>\n",
       "    <tr>\n",
       "      <th>1</th>\n",
       "      <td>Andover</td>\n",
       "      <td>13592</td>\n",
       "      <td>553</td>\n",
       "      <td>Kansas</td>\n",
       "      <td>NaN</td>\n",
       "    </tr>\n",
       "    <tr>\n",
       "      <th>2</th>\n",
       "      <td>Anthony</td>\n",
       "      <td>2051</td>\n",
       "      <td>115</td>\n",
       "      <td>Kansas</td>\n",
       "      <td>NaN</td>\n",
       "    </tr>\n",
       "    <tr>\n",
       "      <th>3</th>\n",
       "      <td>Arkansas City</td>\n",
       "      <td>11589</td>\n",
       "      <td>1272</td>\n",
       "      <td>Kansas</td>\n",
       "      <td>NaN</td>\n",
       "    </tr>\n",
       "    <tr>\n",
       "      <th>4</th>\n",
       "      <td>Arma</td>\n",
       "      <td>1413</td>\n",
       "      <td>87</td>\n",
       "      <td>Kansas</td>\n",
       "      <td>NaN</td>\n",
       "    </tr>\n",
       "    <tr>\n",
       "      <th>5</th>\n",
       "      <td>Assaria</td>\n",
       "      <td>407</td>\n",
       "      <td>0</td>\n",
       "      <td>Kansas</td>\n",
       "      <td>NaN</td>\n",
       "    </tr>\n",
       "    <tr>\n",
       "      <th>6</th>\n",
       "      <td>Atchison</td>\n",
       "      <td>10421</td>\n",
       "      <td>573</td>\n",
       "      <td>Kansas</td>\n",
       "      <td>NaN</td>\n",
       "    </tr>\n",
       "    <tr>\n",
       "      <th>7</th>\n",
       "      <td>Atwood</td>\n",
       "      <td>1221</td>\n",
       "      <td>32</td>\n",
       "      <td>Kansas</td>\n",
       "      <td>NaN</td>\n",
       "    </tr>\n",
       "    <tr>\n",
       "      <th>8</th>\n",
       "      <td>Augusta</td>\n",
       "      <td>9339</td>\n",
       "      <td>690</td>\n",
       "      <td>Kansas</td>\n",
       "      <td>NaN</td>\n",
       "    </tr>\n",
       "    <tr>\n",
       "      <th>9</th>\n",
       "      <td>Basehor</td>\n",
       "      <td>6742</td>\n",
       "      <td>169</td>\n",
       "      <td>Kansas</td>\n",
       "      <td>NaN</td>\n",
       "    </tr>\n",
       "  </tbody>\n",
       "</table>\n",
       "</div>"
      ],
      "text/plain": [
       "0    Agency Name Population1 TotalOffenses   State Population\n",
       "0     Alta Vista         422             0  Kansas        NaN\n",
       "1        Andover       13592           553  Kansas        NaN\n",
       "2        Anthony        2051           115  Kansas        NaN\n",
       "3  Arkansas City       11589          1272  Kansas        NaN\n",
       "4           Arma        1413            87  Kansas        NaN\n",
       "5        Assaria         407             0  Kansas        NaN\n",
       "6       Atchison       10421           573  Kansas        NaN\n",
       "7         Atwood        1221            32  Kansas        NaN\n",
       "8        Augusta        9339           690  Kansas        NaN\n",
       "9        Basehor        6742           169  Kansas        NaN"
      ]
     },
     "execution_count": 3,
     "metadata": {},
     "output_type": "execute_result"
    }
   ],
   "source": [
    "df_merged.head(10)"
   ]
  },
  {
   "cell_type": "markdown",
   "metadata": {},
   "source": [
    "### 2. Data cleaning"
   ]
  },
  {
   "cell_type": "code",
   "execution_count": 4,
   "metadata": {},
   "outputs": [
    {
     "data": {
      "text/plain": [
       "0\n",
       "Agency Name         0\n",
       "Population1         3\n",
       "TotalOffenses    4740\n",
       "State               0\n",
       "Population       9411\n",
       "dtype: int64"
      ]
     },
     "execution_count": 4,
     "metadata": {},
     "output_type": "execute_result"
    }
   ],
   "source": [
    "# Check for missing values\n",
    "df_merged.isnull().sum(axis=0)"
   ]
  },
  {
   "cell_type": "markdown",
   "metadata": {},
   "source": [
    "### These missing values are caused by police districts not filing with the FBI. There is nothing we can do about this so we drop these observations"
   ]
  },
  {
   "cell_type": "code",
   "execution_count": 5,
   "metadata": {},
   "outputs": [],
   "source": [
    "# Missing values caused by missing report\n",
    "df_merged = df_merged[df_merged['TotalOffenses'].notna()]"
   ]
  },
  {
   "attachments": {},
   "cell_type": "markdown",
   "metadata": {},
   "source": [
    "Some population values are missing. We will fill these values with the population from another column."
   ]
  },
  {
   "cell_type": "code",
   "execution_count": 6,
   "metadata": {},
   "outputs": [],
   "source": [
    "# Fill in missing values\n",
    "df_merged['Population1'] = df_merged['Population1'].fillna(df_merged['Population'])"
   ]
  },
  {
   "cell_type": "code",
   "execution_count": 7,
   "metadata": {},
   "outputs": [],
   "source": [
    "df_merged = df_merged.iloc[:, :4]\n",
    "df_merged.columns = ['City', 'Population', 'TotalOffenses', 'State']"
   ]
  },
  {
   "attachments": {},
   "cell_type": "markdown",
   "metadata": {},
   "source": [
    "The format of some state names are not consistent with the other datasets. We will need to fix this."
   ]
  },
  {
   "cell_type": "code",
   "execution_count": 8,
   "metadata": {},
   "outputs": [],
   "source": [
    "# Fix State names\n",
    "df_merged['State'] = [' '.join(i.split('_')) for i in df_merged['State']]"
   ]
  },
  {
   "cell_type": "code",
   "execution_count": 9,
   "metadata": {},
   "outputs": [
    {
     "data": {
      "text/plain": [
       "City             0\n",
       "Population       0\n",
       "TotalOffenses    0\n",
       "State            0\n",
       "dtype: int64"
      ]
     },
     "execution_count": 9,
     "metadata": {},
     "output_type": "execute_result"
    }
   ],
   "source": [
    "# Check for missing values again\n",
    "df_merged.isnull().sum(axis=0)"
   ]
  },
  {
   "cell_type": "code",
   "execution_count": 10,
   "metadata": {},
   "outputs": [
    {
     "data": {
      "text/html": [
       "<div>\n",
       "<style scoped>\n",
       "    .dataframe tbody tr th:only-of-type {\n",
       "        vertical-align: middle;\n",
       "    }\n",
       "\n",
       "    .dataframe tbody tr th {\n",
       "        vertical-align: top;\n",
       "    }\n",
       "\n",
       "    .dataframe thead th {\n",
       "        text-align: right;\n",
       "    }\n",
       "</style>\n",
       "<table border=\"1\" class=\"dataframe\">\n",
       "  <thead>\n",
       "    <tr style=\"text-align: right;\">\n",
       "      <th></th>\n",
       "      <th>City</th>\n",
       "      <th>Population</th>\n",
       "      <th>TotalOffenses</th>\n",
       "      <th>State</th>\n",
       "    </tr>\n",
       "  </thead>\n",
       "  <tbody>\n",
       "    <tr>\n",
       "      <th>0</th>\n",
       "      <td>Alta Vista</td>\n",
       "      <td>422</td>\n",
       "      <td>0</td>\n",
       "      <td>Kansas</td>\n",
       "    </tr>\n",
       "    <tr>\n",
       "      <th>1</th>\n",
       "      <td>Andover</td>\n",
       "      <td>13592</td>\n",
       "      <td>553</td>\n",
       "      <td>Kansas</td>\n",
       "    </tr>\n",
       "    <tr>\n",
       "      <th>2</th>\n",
       "      <td>Anthony</td>\n",
       "      <td>2051</td>\n",
       "      <td>115</td>\n",
       "      <td>Kansas</td>\n",
       "    </tr>\n",
       "    <tr>\n",
       "      <th>3</th>\n",
       "      <td>Arkansas City</td>\n",
       "      <td>11589</td>\n",
       "      <td>1272</td>\n",
       "      <td>Kansas</td>\n",
       "    </tr>\n",
       "    <tr>\n",
       "      <th>4</th>\n",
       "      <td>Arma</td>\n",
       "      <td>1413</td>\n",
       "      <td>87</td>\n",
       "      <td>Kansas</td>\n",
       "    </tr>\n",
       "    <tr>\n",
       "      <th>5</th>\n",
       "      <td>Assaria</td>\n",
       "      <td>407</td>\n",
       "      <td>0</td>\n",
       "      <td>Kansas</td>\n",
       "    </tr>\n",
       "    <tr>\n",
       "      <th>6</th>\n",
       "      <td>Atchison</td>\n",
       "      <td>10421</td>\n",
       "      <td>573</td>\n",
       "      <td>Kansas</td>\n",
       "    </tr>\n",
       "    <tr>\n",
       "      <th>7</th>\n",
       "      <td>Atwood</td>\n",
       "      <td>1221</td>\n",
       "      <td>32</td>\n",
       "      <td>Kansas</td>\n",
       "    </tr>\n",
       "    <tr>\n",
       "      <th>8</th>\n",
       "      <td>Augusta</td>\n",
       "      <td>9339</td>\n",
       "      <td>690</td>\n",
       "      <td>Kansas</td>\n",
       "    </tr>\n",
       "    <tr>\n",
       "      <th>9</th>\n",
       "      <td>Basehor</td>\n",
       "      <td>6742</td>\n",
       "      <td>169</td>\n",
       "      <td>Kansas</td>\n",
       "    </tr>\n",
       "    <tr>\n",
       "      <th>10</th>\n",
       "      <td>Baxter Springs</td>\n",
       "      <td>3915</td>\n",
       "      <td>341</td>\n",
       "      <td>Kansas</td>\n",
       "    </tr>\n",
       "    <tr>\n",
       "      <th>11</th>\n",
       "      <td>Beloit</td>\n",
       "      <td>3604</td>\n",
       "      <td>229</td>\n",
       "      <td>Kansas</td>\n",
       "    </tr>\n",
       "    <tr>\n",
       "      <th>12</th>\n",
       "      <td>Bucklin</td>\n",
       "      <td>767</td>\n",
       "      <td>0</td>\n",
       "      <td>Kansas</td>\n",
       "    </tr>\n",
       "    <tr>\n",
       "      <th>13</th>\n",
       "      <td>Burlington</td>\n",
       "      <td>2530</td>\n",
       "      <td>134</td>\n",
       "      <td>Kansas</td>\n",
       "    </tr>\n",
       "    <tr>\n",
       "      <th>15</th>\n",
       "      <td>Cherryvale</td>\n",
       "      <td>2114</td>\n",
       "      <td>101</td>\n",
       "      <td>Kansas</td>\n",
       "    </tr>\n",
       "    <tr>\n",
       "      <th>16</th>\n",
       "      <td>Clay Center</td>\n",
       "      <td>3944</td>\n",
       "      <td>389</td>\n",
       "      <td>Kansas</td>\n",
       "    </tr>\n",
       "    <tr>\n",
       "      <th>17</th>\n",
       "      <td>Clearwater</td>\n",
       "      <td>2559</td>\n",
       "      <td>135</td>\n",
       "      <td>Kansas</td>\n",
       "    </tr>\n",
       "    <tr>\n",
       "      <th>19</th>\n",
       "      <td>Colby</td>\n",
       "      <td>5365</td>\n",
       "      <td>392</td>\n",
       "      <td>Kansas</td>\n",
       "    </tr>\n",
       "    <tr>\n",
       "      <th>20</th>\n",
       "      <td>Colony</td>\n",
       "      <td>414</td>\n",
       "      <td>0</td>\n",
       "      <td>Kansas</td>\n",
       "    </tr>\n",
       "    <tr>\n",
       "      <th>21</th>\n",
       "      <td>Concordia</td>\n",
       "      <td>4944</td>\n",
       "      <td>317</td>\n",
       "      <td>Kansas</td>\n",
       "    </tr>\n",
       "  </tbody>\n",
       "</table>\n",
       "</div>"
      ],
      "text/plain": [
       "              City  Population TotalOffenses   State\n",
       "0       Alta Vista         422             0  Kansas\n",
       "1          Andover       13592           553  Kansas\n",
       "2          Anthony        2051           115  Kansas\n",
       "3    Arkansas City       11589          1272  Kansas\n",
       "4             Arma        1413            87  Kansas\n",
       "5          Assaria         407             0  Kansas\n",
       "6         Atchison       10421           573  Kansas\n",
       "7           Atwood        1221            32  Kansas\n",
       "8          Augusta        9339           690  Kansas\n",
       "9          Basehor        6742           169  Kansas\n",
       "10  Baxter Springs        3915           341  Kansas\n",
       "11          Beloit        3604           229  Kansas\n",
       "12         Bucklin         767             0  Kansas\n",
       "13      Burlington        2530           134  Kansas\n",
       "15      Cherryvale        2114           101  Kansas\n",
       "16     Clay Center        3944           389  Kansas\n",
       "17      Clearwater        2559           135  Kansas\n",
       "19           Colby        5365           392  Kansas\n",
       "20          Colony         414             0  Kansas\n",
       "21       Concordia        4944           317  Kansas"
      ]
     },
     "execution_count": 10,
     "metadata": {},
     "output_type": "execute_result"
    }
   ],
   "source": [
    "df_merged.head(20)"
   ]
  },
  {
   "attachments": {},
   "cell_type": "markdown",
   "metadata": {},
   "source": [
    "No missing values in the data. We will save it as a csv file."
   ]
  },
  {
   "cell_type": "markdown",
   "metadata": {},
   "source": [
    "### 3. Saving cleaned dataset"
   ]
  },
  {
   "cell_type": "code",
   "execution_count": 11,
   "metadata": {},
   "outputs": [],
   "source": [
    "df_merged.to_csv('../data/data_cleaned/crime2020.csv', index=False)"
   ]
  },
  {
   "cell_type": "markdown",
   "metadata": {},
   "source": [
    "### References\n",
    "\n",
    "* Data source: https://cde.ucr.cjis.gov/LATEST/webapp/#/pages/home\n",
    "* Read excel: https://pandas.pydata.org/docs/reference/api/pandas.read_excel.html\n",
    "* https://stackoverflow.com/questions/20908018/import-multiple-excel-files-into-python-pandas-and-concatenate-them-into-one-dat"
   ]
  }
 ],
 "metadata": {
  "kernelspec": {
   "display_name": "Python 3 (ipykernel)",
   "language": "python",
   "name": "python3"
  },
  "language_info": {
   "codemirror_mode": {
    "name": "ipython",
    "version": 3
   },
   "file_extension": ".py",
   "mimetype": "text/x-python",
   "name": "python",
   "nbconvert_exporter": "python",
   "pygments_lexer": "ipython3",
   "version": "3.9.12"
  }
 },
 "nbformat": 4,
 "nbformat_minor": 4
}
